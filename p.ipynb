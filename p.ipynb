{
 "cells": [
  {
   "cell_type": "code",
   "execution_count": 14,
   "metadata": {},
   "outputs": [
    {
     "name": "stdout",
     "output_type": "stream",
     "text": [
      "First word : damned\n",
      "Length of first word: 6\n",
      "Second word : eden\n",
      "Length of second word: 4\n",
      "Both words can be linked with the subword 'ed'.\n"
     ]
    }
   ],
   "source": [
    "def find_linking_subword(word1, word2):\n",
    "    len_word1 = len(word1)\n",
    "    len_word2 = len(word2)\n",
    "\n",
    "    # Find the minimum length to iterate over\n",
    "    min_len = min(len_word1, len_word2)\n",
    "\n",
    "    # Iterate from the beginning to find the longest subword\n",
    "    linking_subword = ''\n",
    "    for i in range(1, min_len + 1):\n",
    "        if word1[-i:] == word2[:i]:\n",
    "            linking_subword = word1[-i:]\n",
    "    \n",
    "    return linking_subword\n",
    "\n",
    "def word_linking_game():\n",
    "    # Input the first word\n",
    "    word1 = input(\"First word: \")\n",
    "    print(\"First word :\", word1)\n",
    "    length_word1 = len(word1)\n",
    "    print(\"Length of first word:\", length_word1)\n",
    "\n",
    "    # Input the second word\n",
    "    word2 = input(\"Second word: \")\n",
    "    print(\"Second word :\", word2)\n",
    "    length_word2 = len(word2)\n",
    "    print(\"Length of second word:\", length_word2)\n",
    "\n",
    "    # Check if the words can be linked\n",
    "    linking_subword = find_linking_subword(word1, word2)\n",
    "\n",
    "    if linking_subword:\n",
    "        print(f\"Both words can be linked with the subword '{linking_subword}'.\")\n",
    "    else:\n",
    "        print(\"Both words cannot be linked.\")\n",
    "\n",
    "# Run the word linking game\n",
    "word_linking_game()"
   ]
  },
  {
   "cell_type": "code",
   "execution_count": 15,
   "metadata": {},
   "outputs": [
    {
     "name": "stdout",
     "output_type": "stream",
     "text": [
      "7\n",
      "111111\n",
      "777\n"
     ]
    }
   ],
   "source": [
    "def smallest_beautiful_num(x):\n",
    "    def is_beautiful(num):\n",
    "        num_str = str(num)\n",
    "        return len(set(num_str)) == 1 and num_str[0] != '0'\n",
    "\n",
    "    i = 1\n",
    "    while True:\n",
    "        if is_beautiful(i) and i % x == 0:\n",
    "            return i\n",
    "        i += 1\n",
    "\n",
    "# Example usage\n",
    "x = 7\n",
    "print(smallest_beautiful_num(x))\n",
    "\n",
    "x = 13\n",
    "print(smallest_beautiful_num(x))\n",
    "\n",
    "x = 259\n",
    "print(smallest_beautiful_num(x))"
   ]
  }
 ],
 "metadata": {
  "kernelspec": {
   "display_name": "Python 3",
   "language": "python",
   "name": "python3"
  },
  "language_info": {
   "codemirror_mode": {
    "name": "ipython",
    "version": 3
   },
   "file_extension": ".py",
   "mimetype": "text/x-python",
   "name": "python",
   "nbconvert_exporter": "python",
   "pygments_lexer": "ipython3",
   "version": "3.11.5"
  }
 },
 "nbformat": 4,
 "nbformat_minor": 2
}
